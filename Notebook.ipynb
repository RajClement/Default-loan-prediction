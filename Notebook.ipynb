{
 "cells": [
  {
   "cell_type": "markdown",
   "metadata": {},
   "source": [
    "              precision    recall  f1-score   support\n",
    "\n",
    "           0       0.87      0.80      0.83      2393\n",
    "           1       0.82      0.88      0.85      2427\n",
    "\n",
    "    accuracy                           0.84      4820\n",
    "   macro avg       0.84      0.84      0.84      4820\n",
    "weighted avg       0.84      0.84      0.84      4820\n",
    "\n",
    "[[1921  472]\n",
    " [ 295 2132]]\n",
    "ROC-AUC Score: 0.9103985994034586\n",
    "\n",
    "\n",
    "RFC = RandomForestClassifier"
   ]
  },
  {
   "cell_type": "markdown",
   "metadata": {},
   "source": [
    "Best Parameters: {'max_depth': None, 'min_samples_leaf': 1, 'min_samples_split': 2, 'n_estimators': 300}\n",
    "Best ROC-AUC Score: 0.9032241596130767\n",
    "              precision    recall  f1-score   support\n",
    "\n",
    "           0       0.88      0.80      0.84      2393\n",
    "           1       0.82      0.89      0.86      2427\n",
    "\n",
    "    accuracy                           0.85      4820\n",
    "   macro avg       0.85      0.85      0.85      4820\n",
    "weighted avg       0.85      0.85      0.85      4820\n",
    "\n",
    "[[1926  467]\n",
    " [ 262 2165]]\n",
    "ROC-AUC Score: 0.9136072954164658\n",
    "\n",
    "\n"
   ]
  }
 ],
 "metadata": {
  "language_info": {
   "name": "python"
  }
 },
 "nbformat": 4,
 "nbformat_minor": 2
}
